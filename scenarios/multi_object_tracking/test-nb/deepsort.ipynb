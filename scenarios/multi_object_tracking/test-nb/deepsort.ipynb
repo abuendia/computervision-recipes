{
 "cells": [
  {
   "cell_type": "markdown",
   "metadata": {},
   "source": [
    "### External downloads"
   ]
  },
  {
   "cell_type": "markdown",
   "metadata": {},
   "source": [
    "Google Drive links to download the detections and CNN weights."
   ]
  },
  {
   "cell_type": "markdown",
   "metadata": {},
   "source": [
    "### Model config"
   ]
  },
  {
   "cell_type": "code",
   "execution_count": null,
   "metadata": {},
   "outputs": [],
   "source": [
    "MIN_CONFIDENCE = 0.3\n",
    "MIN_DETECTION_HEIGHT = 0\n",
    "NMS_MAX_OVERLAP = 1.0\n",
    "MAX_COSINE_DISTANCE = 0.2\n",
    "NN_BUDGET = 100"
   ]
  },
  {
   "cell_type": "markdown",
   "metadata": {},
   "source": [
    "### Demo config"
   ]
  },
  {
   "cell_type": "code",
   "execution_count": null,
   "metadata": {},
   "outputs": [],
   "source": [
    "SEQUENCE_DIR = \"../deep_sort/MOT16/test/MOT16-06\"\n",
    "DETECTION_FILE = \"../deep_sort/resources/detections/MOT16_POI_test/MOT16-06.npy\"\n",
    "OUTPUT_FILE = \"../deep_sort/tmp/hypotheses.txt\"\n",
    "DISPLAY = False ## buggy due to OpenCV dependencies"
   ]
  },
  {
   "cell_type": "code",
   "execution_count": null,
   "metadata": {},
   "outputs": [],
   "source": [
    "import sys\n",
    "sys.path.insert(1, \"../deep_sort\")"
   ]
  },
  {
   "cell_type": "code",
   "execution_count": null,
   "metadata": {},
   "outputs": [],
   "source": [
    "from __future__ import division, print_function, absolute_import\n",
    "\n",
    "import argparse\n",
    "import os\n",
    "\n",
    "import cv2\n",
    "import numpy as np\n",
    "\n",
    "from application_util import preprocessing\n",
    "from application_util import visualization\n",
    "from deep_sort import nn_matching\n",
    "from deep_sort.detection import Detection\n",
    "from deep_sort.tracker import Tracker"
   ]
  },
  {
   "cell_type": "code",
   "execution_count": null,
   "metadata": {},
   "outputs": [],
   "source": [
    "import deep_sort_app"
   ]
  },
  {
   "cell_type": "code",
   "execution_count": null,
   "metadata": {},
   "outputs": [],
   "source": [
    "deep_sort_app.run(\n",
    "    SEQUENCE_DIR, \n",
    "    DETECTION_FILE,\n",
    "    OUTPUT_FILE,\n",
    "    MIN_CONFIDENCE, \n",
    "    NMS_MAX_OVERLAP, \n",
    "    MIN_DETECTION_HEIGHT, \n",
    "    MAX_COSINE_DISTANCE, \n",
    "    NN_BUDGET, \n",
    "    False)"
   ]
  }
 ],
 "metadata": {
  "kernelspec": {
   "display_name": "Python 3",
   "language": "python",
   "name": "python3"
  },
  "language_info": {
   "codemirror_mode": {
    "name": "ipython",
    "version": 3
   },
   "file_extension": ".py",
   "mimetype": "text/x-python",
   "name": "python",
   "nbconvert_exporter": "python",
   "pygments_lexer": "ipython3",
   "version": "3.7.7"
  }
 },
 "nbformat": 4,
 "nbformat_minor": 4
}
