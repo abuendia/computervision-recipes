{
 "cells": [
  {
   "cell_type": "markdown",
   "metadata": {},
   "source": [
    "### External downloads"
   ]
  },
  {
   "cell_type": "markdown",
   "metadata": {},
   "source": [
    "Pretrained weights are a .pth file available for download on Dropbox."
   ]
  },
  {
   "cell_type": "markdown",
   "metadata": {},
   "source": [
    "### General config"
   ]
  },
  {
   "cell_type": "code",
   "execution_count": null,
   "metadata": {},
   "outputs": [],
   "source": [
    "RESUME = '../../../../jihon-blob/sst300_0712_83000.pth' # path to weights\n",
    "MOT_ROOT = '../../../data/mot' \n",
    "SAVE_FOLDER = '../../../data/sst/out'\n",
    "LOG_FOLDER = '../../../data/sst/log'\n",
    "BATCH_SIZE = 1\n",
    "WRITE_FILE = True\n",
    "TENSORBOARD = True\n",
    "SAVE_COMBINE = False\n",
    "TYPE = 'test'"
   ]
  },
  {
   "cell_type": "markdown",
   "metadata": {},
   "source": [
    "### Model config"
   ]
  },
  {
   "cell_type": "code",
   "execution_count": 1,
   "metadata": {},
   "outputs": [],
   "source": [
    "import sys\n",
    "sys.path.insert(1, \"../SST\")"
   ]
  },
  {
   "cell_type": "code",
   "execution_count": 2,
   "metadata": {
    "scrolled": true
   },
   "outputs": [
    {
     "name": "stdout",
     "output_type": "stream",
     "text": [
      "use configure:  init_test_mot17\n",
      "{   'alpha_valid': 0.8,\n",
      "    'base_net': {   '1024': [],\n",
      "                    '900': [   64,\n",
      "                               64,\n",
      "                               'M',\n",
      "                               128,\n",
      "                               128,\n",
      "                               'M',\n",
      "                               256,\n",
      "                               256,\n",
      "                               256,\n",
      "                               'C',\n",
      "                               512,\n",
      "                               512,\n",
      "                               512,\n",
      "                               'M',\n",
      "                               512,\n",
      "                               512,\n",
      "                               512]},\n",
      "    'base_net_folder': '/home/ssm/ssj/weights/MOT17/vgg16_reducedfc.pth',\n",
      "    'batch_size': 1,\n",
      "    'cuda': True,\n",
      "    'dataset_type': 'train',\n",
      "    'default_mbox': {'1024': [], '900': [4, 6, 6, 6, 4, 4]},\n",
      "    'detector': 'FRCNN',\n",
      "    'extra_net': {   '1024': [],\n",
      "                     '900': [   256,\n",
      "                                'S',\n",
      "                                512,\n",
      "                                128,\n",
      "                                'S',\n",
      "                                256,\n",
      "                                128,\n",
      "                                256,\n",
      "                                128,\n",
      "                                256,\n",
      "                                128,\n",
      "                                'S',\n",
      "                                256,\n",
      "                                128,\n",
      "                                256]},\n",
      "    'false_constant': 10,\n",
      "    'final_net': {'1024': [], '900': [1040, 512, 256, 128, 64, 1]},\n",
      "    'iterations': 85050,\n",
      "    'learning_rate': 0.005,\n",
      "    'log_folder': '/media/ssm/seagate/logs/1008-age-node',\n",
      "    'lower_contrast': 0.7,\n",
      "    'lower_saturation': 0.7,\n",
      "    'max_expand': 1.2,\n",
      "    'max_gap_frame': 40,\n",
      "    'max_object': 80,\n",
      "    'mean_pixel': (104, 117, 123),\n",
      "    'min_gap_frame': 0,\n",
      "    'min_visibility': 0.3,\n",
      "    'mot_root': '/media/ssm/seagate/dataset/MOT17',\n",
      "    'num_workers': 16,\n",
      "    'resume': './weights/sst300_0712_83000.pth',\n",
      "    'save_combine': False,\n",
      "    'save_folder': '/media/ssm/seagate/weights0326-I50k-M80-G30',\n",
      "    'selector_channel': (60, 80, 100, 80, 60, 50, 40, 30, 20),\n",
      "    'selector_size': (255, 113, 56, 28, 14, 12, 10, 5, 3),\n",
      "    'sst_dim': 900,\n",
      "    'start_iter': 55050,\n",
      "    'tensorboard': True,\n",
      "    'type': 'test',\n",
      "    'upper_constrast': 1.5,\n",
      "    'upper_saturation': 1.5,\n",
      "    'vgg_source': [15, 25, -1],\n",
      "    'write_file': True}\n"
     ]
    }
   ],
   "source": [
    "import pprint\n",
    "from config.config import config\n",
    "\n",
    "pp = pprint.PrettyPrinter(indent=4)\n",
    "pp.pprint(config)"
   ]
  },
  {
   "cell_type": "code",
   "execution_count": 3,
   "metadata": {},
   "outputs": [
    {
     "name": "stdout",
     "output_type": "stream",
     "text": [
      "mappingproxy({   '__dict__': <attribute '__dict__' of 'TrackerConfig' objects>,\n",
      "                 '__doc__': None,\n",
      "                 '__module__': 'tracker',\n",
      "                 '__weakref__': <attribute '__weakref__' of 'TrackerConfig' objects>,\n",
      "                 'cuda': True,\n",
      "                 'decay': 0.995,\n",
      "                 'get_all_choices': <staticmethod object at 0x7f53bf7ec890>,\n",
      "                 'get_all_choices_decay': <staticmethod object at 0x7f53bf12e410>,\n",
      "                 'get_all_choices_max_track_node': <staticmethod object at 0x7f53bf0cf290>,\n",
      "                 'get_choices_age_node': <staticmethod object at 0x7f53bf0cf710>,\n",
      "                 'get_configure_str': <staticmethod object at 0x7f53bf7ec690>,\n",
      "                 'get_ua_choice': <staticmethod object at 0x7f53bf431f50>,\n",
      "                 'image_size': (900, 900),\n",
      "                 'max_bad_node': 0.9,\n",
      "                 'max_draw_track_node': 30,\n",
      "                 'max_object': 80,\n",
      "                 'max_record_frame': 30,\n",
      "                 'max_track_age': 30,\n",
      "                 'max_track_node': 30,\n",
      "                 'mean_pixel': (104, 117, 123),\n",
      "                 'min_iou': [   0.3,\n",
      "                                0.0,\n",
      "                                -1.0,\n",
      "                                -2.0,\n",
      "                                -3.0,\n",
      "                                -4.0,\n",
      "                                -5.0,\n",
      "                                -6.0,\n",
      "                                -7.0,\n",
      "                                -7.0],\n",
      "                 'min_iou_frame_gap': [1, 2, 3, 4, 5, 6, 7, 8, 9, 10],\n",
      "                 'min_merge_threshold': 0.9,\n",
      "                 'roi_verify_max_iteration': 2,\n",
      "                 'roi_verify_punish_rate': 0.6,\n",
      "                 'set_configure': <staticmethod object at 0x7f543ec02e10>,\n",
      "                 'sst_model_path': './weights/sst300_0712_83000.pth'})\n"
     ]
    }
   ],
   "source": [
    "from tracker import TrackerConfig\n",
    "\n",
    "pp.pprint(TrackerConfig.__dict__)"
   ]
  },
  {
   "cell_type": "markdown",
   "metadata": {},
   "source": [
    "### Setup"
   ]
  },
  {
   "cell_type": "code",
   "execution_count": null,
   "metadata": {},
   "outputs": [],
   "source": [
    "from tracker import SSTTracker, TrackerConfig, Track\n",
    "import cv2\n",
    "from data.mot_data_reader import MOTDataReader\n",
    "import numpy as np\n",
    "from config.config import config\n",
    "from utils.timer import Timer\n",
    "import argparse\n",
    "import os"
   ]
  },
  {
   "cell_type": "markdown",
   "metadata": {},
   "source": [
    "### Run"
   ]
  },
  {
   "cell_type": "code",
   "execution_count": null,
   "metadata": {},
   "outputs": [],
   "source": [
    "dataset_index = [1, 3, 6, 7, 8, 12, 14]\n",
    "dataset_detection_type = {'-FRCNN', '-SDP', '-DPM'}"
   ]
  },
  {
   "cell_type": "code",
   "execution_count": null,
   "metadata": {},
   "outputs": [],
   "source": [
    "dataset_image_folder_format = os.path.join(args.mot_root, args.type+'/MOT'+str(args.mot_version)+'-{:02}{}/img1')\n",
    "detection_file_name_format=os.path.join(args.mot_root, args.type+'/MOT'+str(args.mot_version)+'-{:02}{}/det/det.txt')\n",
    "\n",
    "if not os.path.exists(args.log_folder):\n",
    "    os.mkdir(args.log_folder)\n",
    "\n",
    "save_folder = ''\n",
    "choice_str = ''\n",
    "if not choice is None:\n",
    "    choice_str = TrackerConfig.get_configure_str(choice)\n",
    "    save_folder = os.path.join(args.log_folder, choice_str)\n",
    "    if not os.path.exists(save_folder):\n",
    "        os.mkdir(save_folder)\n",
    "\n",
    "saved_file_name_format = os.path.join(save_folder, 'MOT'+str(args.mot_version)+'-{:02}{}.txt')\n",
    "save_video_name_format = os.path.join(save_folder, 'MOT'+str(args.mot_version)+'-{:02}{}.avi')"
   ]
  },
  {
   "cell_type": "code",
   "execution_count": null,
   "metadata": {},
   "outputs": [],
   "source": [
    "f = lambda format_str: [format_str.format(index, type) for type in dataset_detection_type for index in dataset_index]"
   ]
  },
  {
   "cell_type": "code",
   "execution_count": null,
   "metadata": {},
   "outputs": [],
   "source": [
    "def test(choice=None):\n",
    "    timer = Timer()\n",
    "    for image_folder, detection_file_name, saved_file_name, save_video_name in zip(f(dataset_image_folder_format), f(detection_file_name_format), f(saved_file_name_format), f(save_video_name_format)):\n",
    "        print('start processing '+saved_file_name)\n",
    "        tracker = SSTTracker()\n",
    "        reader = MOTDataReader(image_folder = image_folder,\n",
    "                      detection_file_name =detection_file_name,\n",
    "                               min_confidence=0.0)\n",
    "        result = list()\n",
    "        result_str = saved_file_name\n",
    "        first_run = True\n",
    "        for i, item in enumerate(reader):\n",
    "            if i > len(reader):\n",
    "                break\n",
    "\n",
    "            if item is None:\n",
    "                continue\n",
    "\n",
    "            img = item[0]\n",
    "            det = item[1]\n",
    "\n",
    "            if img is None or det is None or len(det)==0:\n",
    "                continue\n",
    "\n",
    "            if len(det) > config['max_object']:\n",
    "                det = det[:config['max_object'], :]\n",
    "\n",
    "            h, w, _ = img.shape\n",
    "\n",
    "\n",
    "            if first_run and args.save_video:\n",
    "                vw = cv2.VideoWriter(save_video_name, cv2.VideoWriter_fourcc('M','J','P','G'), 10, (w, h))\n",
    "                first_run = False\n",
    "\n",
    "            det[:, [2,4]] /= float(w)\n",
    "            det[:, [3,5]] /= float(h)\n",
    "            timer.tic()\n",
    "            image_org = tracker.update(img, det[:, 2:6], args.show_image, i)\n",
    "            timer.toc()\n",
    "            print('{}:{}, {}, {}\\r'.format(os.path.basename(saved_file_name), i, int(i*100/len(reader)), choice_str))\n",
    "            if args.show_image and not image_org is None:\n",
    "                cv2.imshow('res', image_org)\n",
    "                cv2.waitKey(1)\n",
    "\n",
    "            if args.save_video and not image_org is None:\n",
    "                vw.write(image_org)\n",
    "\n",
    "            # save result\n",
    "            for t in tracker.tracks:\n",
    "                n = t.nodes[-1]\n",
    "                if t.age == 1:\n",
    "                    b = n.get_box(tracker.frame_index-1, tracker.recorder)\n",
    "                    result.append(\n",
    "                        [i] + [t.id] + [b[0]*w, b[1]*h, b[2]*w, b[3]*h] + [-1, -1, -1, -1]\n",
    "                    )\n",
    "        # save data\n",
    "        np.savetxt(saved_file_name, np.array(result).astype(int), fmt='%i')\n",
    "        print(result_str)\n",
    "\n",
    "    print(timer.total_time)\n",
    "    print(timer.average_time)    "
   ]
  },
  {
   "cell_type": "code",
   "execution_count": null,
   "metadata": {},
   "outputs": [],
   "source": [
    "all_choices = TrackerConfig.get_choices_age_node()\n",
    "iteration = 3\n",
    "# test()\n",
    "\n",
    "i = 0\n",
    "for age in range(1):\n",
    "    for node in range(1):\n",
    "        c = (0, 0, 4, 0, 3, 3)\n",
    "        choice_str = TrackerConfig.get_configure_str(c)\n",
    "        TrackerConfig.set_configure(c)\n",
    "        print('=============================={}.{}=============================='.format(i, choice_str))\n",
    "        test(c)\n",
    "        i += 1"
   ]
  }
 ],
 "metadata": {
  "kernelspec": {
   "display_name": "Python 3",
   "language": "python",
   "name": "python3"
  },
  "language_info": {
   "codemirror_mode": {
    "name": "ipython",
    "version": 3
   },
   "file_extension": ".py",
   "mimetype": "text/x-python",
   "name": "python",
   "nbconvert_exporter": "python",
   "pygments_lexer": "ipython3",
   "version": "3.7.7"
  }
 },
 "nbformat": 4,
 "nbformat_minor": 4
}
