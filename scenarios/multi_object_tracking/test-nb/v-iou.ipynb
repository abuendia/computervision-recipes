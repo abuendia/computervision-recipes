{
 "cells": [
  {
   "cell_type": "markdown",
   "metadata": {},
   "source": [
    "### External downloads"
   ]
  },
  {
   "cell_type": "markdown",
   "metadata": {},
   "source": [
    "If you want to use a more performant version of the KCF tracker (KCF2), you need to build and install OpenCV from scratch (need both the C++ and Python interfaces). Otherwise it will fall back to the KCF tracker provided by OpenCV-Contrib."
   ]
  },
  {
   "cell_type": "markdown",
   "metadata": {},
   "source": [
    "### Model config"
   ]
  },
  {
   "cell_type": "code",
   "execution_count": null,
   "metadata": {},
   "outputs": [],
   "source": [
    "VISUAL = \"KCF\"  ## [BOOSTING, MIL, KCF, KCF2, TLD, MEDIANFLOW, GOTURN, NONE]\n",
    "KEEP_UPPER_HEIGHT_RATIO = 1.0  ## ratio of height of the object to track to the total height of the object for visual tracking\n",
    "SIGMA_L = 0.0  ## low detection threshold\n",
    "SIGMA_H = 0.5  ## high detection threshold\n",
    "SIGMA_IOU = 0.5  ## intersection-over-union threshold\n",
    "T_MIN = 2  ## minimum track length\n",
    "TTL = 1  ## time to live parameter for v-iou\n",
    "NMS = None  ## nms for loading multi-class detections\n",
    "FMT = \"motchallenge\"  ## format of the detections [motchallenge, visdrone]"
   ]
  },
  {
   "cell_type": "markdown",
   "metadata": {},
   "source": [
    "### Data config"
   ]
  },
  {
   "cell_type": "code",
   "execution_count": null,
   "metadata": {},
   "outputs": [],
   "source": [
    "FRAMES_PATH = \"\"  ## sequence frames with format '/path/to/frames/frame_{:04d}' where '{:04d}' will be replaced with the frrame id\n",
    "DETECTION_PATH = \"\"  ## full path to CSV containing the detections\n",
    "OUTPUT_PATH = \"\"  ## output path to store the tracking results (MOT challenge/Visdrone devkit compatible format)"
   ]
  },
  {
   "cell_type": "markdown",
   "metadata": {},
   "source": [
    "### Setup"
   ]
  },
  {
   "cell_type": "code",
   "execution_count": null,
   "metadata": {},
   "outputs": [],
   "source": [
    "import sys\n",
    "sys.path.insert(1, \"../iou-tracker\")\n",
    "from iou_tracker import track_iou\n",
    "from viou_tracker import track_viou\n",
    "from util import load_mot, save_to_csv"
   ]
  },
  {
   "cell_type": "markdown",
   "metadata": {},
   "source": [
    "### Get detections"
   ]
  },
  {
   "cell_type": "code",
   "execution_count": null,
   "metadata": {},
   "outputs": [],
   "source": [
    "WITH_CLASSES = True if FMT == \"visdrone\" else False"
   ]
  },
  {
   "cell_type": "code",
   "execution_count": null,
   "metadata": {},
   "outputs": [],
   "source": [
    "detections = load_mot(\n",
    "    DETECTION_PATH, \n",
    "    nms_overlap_thresh=NMS, \n",
    "    with_classes=WITH_CLASSES)"
   ]
  },
  {
   "cell_type": "markdown",
   "metadata": {},
   "source": [
    "### IOU tracking"
   ]
  },
  {
   "cell_type": "code",
   "execution_count": null,
   "metadata": {},
   "outputs": [],
   "source": [
    "tracks = track_iou(\n",
    "    detections, \n",
    "    SIGMAL_L, \n",
    "    SIGMAL_H, \n",
    "    SIGMA_IOU, \n",
    "    T_MIN)"
   ]
  },
  {
   "cell_type": "markdown",
   "metadata": {},
   "source": [
    "### V-IOU tracking"
   ]
  },
  {
   "cell_type": "code",
   "execution_count": null,
   "metadata": {},
   "outputs": [],
   "source": [
    "tracks = track_viou(\n",
    "    FRAMES_PATH,\n",
    "    detections,\n",
    "    SIGMAL_L,\n",
    "    SIGMA_H,\n",
    "    SIGMA_IOU,\n",
    "    T_MIN,\n",
    "    TTL,\n",
    "    VISUAL,\n",
    "    KEEP_UPPER_HEIGHT_RATIO,\n",
    ")"
   ]
  },
  {
   "cell_type": "markdown",
   "metadata": {},
   "source": [
    "### Save output"
   ]
  },
  {
   "cell_type": "code",
   "execution_count": null,
   "metadata": {},
   "outputs": [],
   "source": [
    "save_to_csv(OUTPUT_PATH, tracks, fmt=FMT)"
   ]
  }
 ],
 "metadata": {
  "kernelspec": {
   "display_name": "Python 3",
   "language": "python",
   "name": "python3"
  },
  "language_info": {
   "codemirror_mode": {
    "name": "ipython",
    "version": 3
   },
   "file_extension": ".py",
   "mimetype": "text/x-python",
   "name": "python",
   "nbconvert_exporter": "python",
   "pygments_lexer": "ipython3",
   "version": "3.7.6"
  }
 },
 "nbformat": 4,
 "nbformat_minor": 4
}
