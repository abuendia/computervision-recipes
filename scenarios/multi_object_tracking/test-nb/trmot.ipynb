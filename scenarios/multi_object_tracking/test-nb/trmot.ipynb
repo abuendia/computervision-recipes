{
 "cells": [
  {
   "cell_type": "markdown",
   "metadata": {},
   "source": [
    "### External downloads"
   ]
  },
  {
   "cell_type": "markdown",
   "metadata": {},
   "source": [
    "Model weights available for download as .pt file on Google Drive."
   ]
  },
  {
   "cell_type": "markdown",
   "metadata": {},
   "source": [
    "### Model config"
   ]
  },
  {
   "cell_type": "code",
   "execution_count": null,
   "metadata": {},
   "outputs": [],
   "source": [
    "CFG_PATH = \"../Towards-Realtime-MOT/cfg/yolov3_1088x608.cfg\"\n",
    "WEIGHTS_PATH = \"../../../../jihon-blob/jde.1088x608.uncertainty.pt\"\n",
    "IOU_THRESHOLD = 0.5\n",
    "CONF_THRESHOLD = 0.5\n",
    "NMS_THRESHOLD = 0.4\n",
    "MIN_BOX_AREA = 200\n",
    "TRACKING_BUFFER = 30"
   ]
  },
  {
   "cell_type": "markdown",
   "metadata": {},
   "source": [
    "### Data config"
   ]
  },
  {
   "cell_type": "code",
   "execution_count": null,
   "metadata": {},
   "outputs": [],
   "source": [
    "INPUT_VIDEO_PATH = \"../../../data/benfica/sample.mp4\"\n",
    "OUTPUT_FORMAT = \"video\"\n",
    "OUTPUT_ROOT_PATH = \"../../../data/benfica/trmot-tracking-output\""
   ]
  },
  {
   "cell_type": "markdown",
   "metadata": {},
   "source": [
    "### Setup"
   ]
  },
  {
   "cell_type": "code",
   "execution_count": null,
   "metadata": {},
   "outputs": [],
   "source": [
    "import sys\n",
    "sys.path.insert(1, \"../Towards-Realtime-MOT\")"
   ]
  },
  {
   "cell_type": "code",
   "execution_count": null,
   "metadata": {},
   "outputs": [],
   "source": [
    "import logging\n",
    "import argparse\n",
    "from utils.utils import *\n",
    "from utils.log import logger\n",
    "from utils.timer import Timer\n",
    "from utils.parse_config import parse_model_cfg\n",
    "import utils.datasets as datasets\n",
    "from track import eval_seq"
   ]
  },
  {
   "cell_type": "code",
   "execution_count": null,
   "metadata": {},
   "outputs": [],
   "source": [
    "logger.setLevel(logging.INFO)"
   ]
  },
  {
   "cell_type": "markdown",
   "metadata": {},
   "source": [
    "### Run"
   ]
  },
  {
   "cell_type": "code",
   "execution_count": null,
   "metadata": {},
   "outputs": [],
   "source": [
    "## We either need to bundle the parameters back into OPT (kinda weird because this is not run from command line)\n",
    "## or refactor eval_seq (in top-level track.py) ourselves\n",
    "result_root = opt.output_root if opt.output_root != \"\" else \".\"\n",
    "mkdir_if_missing(result_root)\n",
    "\n",
    "# cfg_dict = parse_model_cfg(opt.cfg)\n",
    "cfg_dict = parse_model_cfg(CFG_PATH=\"../Towards-Realtime-MOT/cfg/yolov3_1088x608.cfg\")\n",
    "opt.img_size = [int(cfg_dict[0][\"width\"]), int(cfg_dict[0][\"height\"])]\n",
    "\n",
    "# run tracking\n",
    "timer = Timer()\n",
    "accs = []\n",
    "n_frame = 0\n",
    "\n",
    "logger.info(\"Starting tracking...\")\n",
    "dataloader = datasets.LoadVideo(opt.input_video, opt.img_size)\n",
    "result_filename = os.path.join(result_root, \"results.txt\")\n",
    "frame_rate = dataloader.frame_rate\n",
    "\n",
    "frame_dir = None if opt.output_format == \"text\" else osp.join(result_root, \"frame\")\n",
    "try:\n",
    "    eval_seq(\n",
    "        opt,\n",
    "        dataloader,\n",
    "        \"mot\",\n",
    "        result_filename,\n",
    "        save_dir=frame_dir,\n",
    "        show_image=False,\n",
    "        frame_rate=frame_rate,\n",
    "    )\n",
    "except Exception as e:\n",
    "    logger.info(e)\n",
    "\n",
    "if opt.output_format == \"video\":\n",
    "    output_video_path = osp.join(result_root, \"result.mp4\")\n",
    "    cmd_str = \"ffmpeg -f image2 -i {}/%05d.jpg -c:v copy {}\".format(\n",
    "        osp.join(result_root, \"frame\"), output_video_path\n",
    "    )\n",
    "    os.system(cmd_str)"
   ]
  }
 ],
 "metadata": {
  "kernelspec": {
   "display_name": "Python 3",
   "language": "python",
   "name": "python3"
  },
  "language_info": {
   "codemirror_mode": {
    "name": "ipython",
    "version": 3
   },
   "file_extension": ".py",
   "mimetype": "text/x-python",
   "name": "python",
   "nbconvert_exporter": "python",
   "pygments_lexer": "ipython3",
   "version": "3.7.6"
  }
 },
 "nbformat": 4,
 "nbformat_minor": 4
}
