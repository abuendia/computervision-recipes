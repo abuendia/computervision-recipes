{
 "cells": [
  {
   "cell_type": "markdown",
   "metadata": {},
   "source": [
    "### Notes on installation"
   ]
  },
  {
   "cell_type": "markdown",
   "metadata": {},
   "source": [
    "```pip install -r requirements.txt```\n",
    "\n",
    "```pip install -e .``` (within tracking_wo_bnw directory)\n",
    "\n",
    "Also may need to ```pip install sacred easydict```"
   ]
  },
  {
   "cell_type": "markdown",
   "metadata": {},
   "source": [
    "### Tracktor config"
   ]
  },
  {
   "cell_type": "code",
   "execution_count": 1,
   "metadata": {},
   "outputs": [
    {
     "name": "stdout",
     "output_type": "stream",
     "text": [
      "{   'tracktor': {   'dataset': 'mot17_train_FRCNN17',\n",
      "                    'desription': None,\n",
      "                    'frame_split': [0.0, 1.0],\n",
      "                    'interpolate': False,\n",
      "                    'module_name': 'MOT17',\n",
      "                    'name': 'Tracktor++',\n",
      "                    'network': 'fpn',\n",
      "                    'obj_detect_model': 'output/faster_rcnn_fpn_training_mot_17/model_epoch_27.model',\n",
      "                    'reid_config': 'output/tracktor/reid/res50-mot17-batch_hard/sacred_config.yaml',\n",
      "                    'reid_weights': 'output/tracktor/reid/res50-mot17-batch_hard/ResNet_iter_25245.pth',\n",
      "                    'seed': 12345,\n",
      "                    'tracker': {   'detection_nms_thresh': 0.3,\n",
      "                                   'detection_person_thresh': 0.5,\n",
      "                                   'do_align': True,\n",
      "                                   'do_reid': True,\n",
      "                                   'inactive_patience': 10,\n",
      "                                   'max_features_num': 10,\n",
      "                                   'motion_model': {   'center_only': True,\n",
      "                                                       'enabled': False,\n",
      "                                                       'n_steps': 1},\n",
      "                                   'number_of_iterations': 100,\n",
      "                                   'public_detections': True,\n",
      "                                   'regression_nms_thresh': 0.6,\n",
      "                                   'regression_person_thresh': 0.5,\n",
      "                                   'reid_iou_threshold': 0.2,\n",
      "                                   'reid_sim_threshold': 2.0,\n",
      "                                   'termination_eps': 1e-05,\n",
      "                                   'warp_mode': 'cv2.MOTION_EUCLIDEAN'},\n",
      "                    'write_images': False}}\n"
     ]
    }
   ],
   "source": [
    "import yaml\n",
    "import pprint\n",
    "\n",
    "pp = pprint.PrettyPrinter(indent=4)\n",
    "\n",
    "with open(\"../tracking_wo_bnw/experiments/cfgs/tracktor.yaml\", \"rb\") as f:\n",
    "    try:\n",
    "        pp.pprint(yaml.safe_load(f))\n",
    "    except yaml.YAMLError as e:\n",
    "        print(e)"
   ]
  },
  {
   "cell_type": "markdown",
   "metadata": {},
   "source": [
    "### Reid config"
   ]
  },
  {
   "cell_type": "code",
   "execution_count": 2,
   "metadata": {},
   "outputs": [
    {
     "name": "stdout",
     "output_type": "stream",
     "text": [
      "{   'reid': {   'cnn': {'output_dim': 128},\n",
      "                'dataloader': {   'K': 4,\n",
      "                                  'P': 18,\n",
      "                                  'crop_H': 256,\n",
      "                                  'crop_W': 128,\n",
      "                                  'max_per_person': 1000,\n",
      "                                  'normalize_mean': [0.485, 0.456, 0.406],\n",
      "                                  'normalize_std': [0.229, 0.224, 0.225],\n",
      "                                  'transform': 'random',\n",
      "                                  'vis_threshold': 0.3},\n",
      "                'db_train': 'mot_reid_small_train',\n",
      "                'db_val': False,\n",
      "                'desription': None,\n",
      "                'model_args': {   'loss': 'batch_hard',\n",
      "                                  'margin': 0.2,\n",
      "                                  'prec_at_k': 3},\n",
      "                'module_name': 'reid',\n",
      "                'name': 'test',\n",
      "                'seed': 12345,\n",
      "                'solver': {   'optim': 'Adam',\n",
      "                              'optim_args': {   'lr': 0.0003,\n",
      "                                                'weight_decay': 0.0}}}}\n"
     ]
    }
   ],
   "source": [
    "with open(\"../tracking_wo_bnw/experiments/cfgs/reid.yaml\", \"rb\") as f:\n",
    "    try:\n",
    "        pp.pprint(yaml.safe_load(f))\n",
    "    except yaml.YAMLError as e:\n",
    "        print(e)"
   ]
  },
  {
   "cell_type": "markdown",
   "metadata": {},
   "source": [
    "### Run the demo"
   ]
  },
  {
   "cell_type": "code",
   "execution_count": null,
   "metadata": {},
   "outputs": [],
   "source": [
    "import sys\n",
    "sys.path.insert(1, \"../tracking_wo_bnw\")"
   ]
  },
  {
   "cell_type": "code",
   "execution_count": null,
   "metadata": {},
   "outputs": [],
   "source": [
    "import os\n",
    "import time\n",
    "from os import path as osp\n",
    "\n",
    "import numpy as np\n",
    "import torch\n",
    "from torch.utils.data import DataLoader\n",
    "\n",
    "import motmetrics as mm\n",
    "mm.lap.default_solver = 'lap'\n",
    "\n",
    "import torchvision\n",
    "import yaml\n",
    "from tqdm import tqdm\n",
    "import sacred ## we may not want to use this, this is just the Experiment Framework they use\n",
    "from sacred import Experiment\n",
    "from tracktor.frcnn_fpn import FRCNN_FPN\n",
    "from tracktor.config import get_output_dir\n",
    "from tracktor.datasets.factory import Datasets\n",
    "from tracktor.oracle_tracker import OracleTracker\n",
    "from tracktor.tracker import Tracker\n",
    "from tracktor.reid.resnet import resnet50\n",
    "from tracktor.utils import interpolate, plot_sequence, get_mot_accum, evaluate_mot_accums"
   ]
  },
  {
   "cell_type": "code",
   "execution_count": null,
   "metadata": {},
   "outputs": [],
   "source": [
    "ex = Experiment()\n",
    "\n",
    "ex.add_config('experiments/cfgs/tracktor.yaml')\n",
    "\n",
    "# hacky workaround to load the corresponding configs and not having to hardcode paths here\n",
    "ex.add_config(ex.configurations[0]._conf['tracktor']['reid_config'])\n",
    "ex.add_named_config('oracle', 'experiments/cfgs/oracle_tracktor.yaml')\n",
    "\n",
    "\n",
    "@ex.automain\n",
    "def main(tracktor, reid, _config, _log, _run):\n",
    "    sacred.commands.print_config(_run)\n",
    "\n",
    "    # set all seeds\n",
    "    torch.manual_seed(tracktor['seed'])\n",
    "    torch.cuda.manual_seed(tracktor['seed'])\n",
    "    np.random.seed(tracktor['seed'])\n",
    "    torch.backends.cudnn.deterministic = True\n",
    "\n",
    "    output_dir = osp.join(get_output_dir(tracktor['module_name']), tracktor['name'])\n",
    "    sacred_config = osp.join(output_dir, 'sacred_config.yaml')\n",
    "\n",
    "    if not osp.exists(output_dir):\n",
    "        os.makedirs(output_dir)\n",
    "    with open(sacred_config, 'w') as outfile:\n",
    "        yaml.dump(_config, outfile, default_flow_style=False)\n",
    "\n",
    "    ##########################\n",
    "    # Initialize the modules #\n",
    "    ##########################\n",
    "\n",
    "    # object detection\n",
    "    _log.info(\"Initializing object detector.\")\n",
    "\n",
    "    obj_detect = FRCNN_FPN(num_classes=2)\n",
    "    obj_detect.load_state_dict(torch.load(_config['tracktor']['obj_detect_model'],\n",
    "                               map_location=lambda storage, loc: storage))\n",
    "\n",
    "    obj_detect.eval()\n",
    "    obj_detect.cuda()\n",
    "\n",
    "    # reid\n",
    "    reid_network = resnet50(pretrained=False, **reid['cnn'])\n",
    "    reid_network.load_state_dict(torch.load(tracktor['reid_weights'],\n",
    "                                 map_location=lambda storage, loc: storage))\n",
    "    reid_network.eval()\n",
    "    reid_network.cuda()\n",
    "\n",
    "    # tracktor\n",
    "    if 'oracle' in tracktor:\n",
    "        tracker = OracleTracker(obj_detect, reid_network, tracktor['tracker'], tracktor['oracle'])\n",
    "    else:\n",
    "        tracker = Tracker(obj_detect, reid_network, tracktor['tracker'])\n",
    "\n",
    "    time_total = 0\n",
    "    num_frames = 0\n",
    "    mot_accums = []\n",
    "    dataset = Datasets(tracktor['dataset'])\n",
    "    for seq in dataset:\n",
    "        tracker.reset()\n",
    "\n",
    "        start = time.time()\n",
    "\n",
    "        _log.info(f\"Tracking: {seq}\")\n",
    "\n",
    "        data_loader = DataLoader(seq, batch_size=1, shuffle=False)\n",
    "        for i, frame in enumerate(tqdm(data_loader)):\n",
    "            if len(seq) * tracktor['frame_split'][0] <= i <= len(seq) * tracktor['frame_split'][1]:\n",
    "                with torch.no_grad():\n",
    "                    tracker.step(frame)\n",
    "                num_frames += 1\n",
    "        results = tracker.get_results()\n",
    "\n",
    "        time_total += time.time() - start\n",
    "\n",
    "        _log.info(f\"Tracks found: {len(results)}\")\n",
    "        _log.info(f\"Runtime for {seq}: {time.time() - start :.1f} s.\")\n",
    "\n",
    "        if tracktor['interpolate']:\n",
    "            results = interpolate(results)\n",
    "\n",
    "        if seq.no_gt:\n",
    "            _log.info(f\"No GT data for evaluation available.\")\n",
    "        else:\n",
    "            mot_accums.append(get_mot_accum(results, seq))\n",
    "\n",
    "        _log.info(f\"Writing predictions to: {output_dir}\")\n",
    "        seq.write_results(results, output_dir)\n",
    "\n",
    "        if tracktor['write_images']:\n",
    "            plot_sequence(results, seq, osp.join(output_dir, tracktor['dataset'], str(seq)))\n",
    "\n",
    "    _log.info(f\"Tracking runtime for all sequences (without evaluation or image writing): \"\n",
    "              f\"{time_total:.1f} s ({num_frames / time_total:.1f} Hz)\")\n",
    "    if mot_accums:\n",
    "        evaluate_mot_accums(mot_accums, [str(s) for s in dataset if not s.no_gt], generate_overall=True)"
   ]
  }
 ],
 "metadata": {
  "kernelspec": {
   "display_name": "Python 3",
   "language": "python",
   "name": "python3"
  },
  "language_info": {
   "codemirror_mode": {
    "name": "ipython",
    "version": 3
   },
   "file_extension": ".py",
   "mimetype": "text/x-python",
   "name": "python",
   "nbconvert_exporter": "python",
   "pygments_lexer": "ipython3",
   "version": "3.7.6"
  }
 },
 "nbformat": 4,
 "nbformat_minor": 4
}
